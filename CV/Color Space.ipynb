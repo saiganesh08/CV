{
 "cells": [
  {
   "cell_type": "code",
   "execution_count": 1,
   "id": "394fba56",
   "metadata": {},
   "outputs": [],
   "source": [
    "import cv2\n",
    "import numpy as np"
   ]
  },
  {
   "cell_type": "code",
   "execution_count": 2,
   "id": "9717944f",
   "metadata": {},
   "outputs": [],
   "source": [
    "image = cv2.imread(\"sky.jpg\")\n",
    "image = cv2.resize(image,(400,400))\n",
    "hsv_image = cv2.cvtColor(image, cv2.COLOR_BGR2HSV)\n",
    "img = image.astype(np.float64)/255\n",
    "c = (1-img[...,2])\n",
    "m = (1-img[...,1])\n",
    "y = (1-img[...,0])\n",
    "cmy_image = (np.dstack((c, m, y))*255).astype(np.int8)\n",
    "cv2.imshow(\"Original image\", image)\n",
    "cv2.imshow(\"HSV image\", hsv_image)\n",
    "cv2.imshow(\"CYMK image\",cmy_image)\n",
    "cv2.waitKey(0)\n",
    "cv2.destroyAllWindows()"
   ]
  },
  {
   "cell_type": "code",
   "execution_count": null,
   "id": "229122a7",
   "metadata": {},
   "outputs": [],
   "source": []
  }
 ],
 "metadata": {
  "kernelspec": {
   "display_name": "Python 3 (ipykernel)",
   "language": "python",
   "name": "python3"
  },
  "language_info": {
   "codemirror_mode": {
    "name": "ipython",
    "version": 3
   },
   "file_extension": ".py",
   "mimetype": "text/x-python",
   "name": "python",
   "nbconvert_exporter": "python",
   "pygments_lexer": "ipython3",
   "version": "3.9.12"
  }
 },
 "nbformat": 4,
 "nbformat_minor": 5
}
